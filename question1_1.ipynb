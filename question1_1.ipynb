{
 "cells": [
  {
   "cell_type": "code",
   "execution_count": null,
   "metadata": {},
   "outputs": [],
   "source": [
    "import numpy as np\n",
    "import pandas as pd\n",
    "import seaborn as sns\n",
    "import matplotlib.pyplot as plt\n",
    "import math\n",
    "\n",
    "from sklearn.cluster import KMeans\n",
    "from sklearn.decomposition import PCA\n",
    "from mpl_toolkits.mplot3d import Axes3D\n",
    "from sklearn.manifold import TSNE\n",
    "from sklearn.metrics import silhouette_score, calinski_harabasz_score\n",
    "from sklearn.preprocessing import StandardScaler, MinMaxScaler\n",
    "from sklearn.model_selection import train_test_split\n",
    "\n",
    "import lightgbm as lgb\n",
    "import shap"
   ]
  },
  {
   "cell_type": "code",
   "execution_count": null,
   "metadata": {},
   "outputs": [],
   "source": [
    "df = pd.read_excel('data/分析残差和单词属性关系.xlsx')\n",
    "df.head(5)"
   ]
  },
  {
   "cell_type": "code",
   "execution_count": null,
   "metadata": {},
   "outputs": [],
   "source": [
    "df = df.iloc[0:203,:]"
   ]
  },
  {
   "cell_type": "code",
   "execution_count": null,
   "metadata": {},
   "outputs": [],
   "source": [
    "sns.violinplot(data=df, x=\"is_repetitive\", y=\"Residual\", split=True)"
   ]
  },
  {
   "cell_type": "code",
   "execution_count": null,
   "metadata": {},
   "outputs": [],
   "source": [
    "sns.lmplot(data=df, x=\"percentage_proc\", y=\"Residual\")"
   ]
  },
  {
   "cell_type": "code",
   "execution_count": null,
   "metadata": {},
   "outputs": [],
   "source": [
    "# sns.scatterplot(data=df, x=\"freq\", y=\"percentage_proc\")\n",
    "sns.lmplot(data=df, x=\"letter3 freq\", y=\"Residual\")"
   ]
  },
  {
   "cell_type": "code",
   "execution_count": null,
   "metadata": {},
   "outputs": [],
   "source": [
    "df[\"5 or more tries (X)\"] = df['5 tries'] + df['6 tries'] + df['7 or more tries (X)']\n",
    "df[\"4 or less tries (X)\"] = df['1 try'] + df['2 tries'] + df['3 tries'] + df['4 tries']"
   ]
  },
  {
   "cell_type": "code",
   "execution_count": null,
   "metadata": {},
   "outputs": [],
   "source": [
    "sns.lmplot(data=df, x=\"5 or more tries (X)\", y=\"Residual\")"
   ]
  },
  {
   "cell_type": "code",
   "execution_count": null,
   "metadata": {},
   "outputs": [],
   "source": [
    "sns.lmplot(data=df, x=\"4 or less tries (X)\", y=\"Residual\")"
   ]
  },
  {
   "cell_type": "code",
   "execution_count": null,
   "metadata": {},
   "outputs": [],
   "source": [
    "y_series = df['Residual']\n",
    "# y_series = feature_df['Accident Level']\n",
    "# feature = ['is_repetitive',\n",
    "#        'repetitive numbers', 'number of vowels', 'number of consonants',\n",
    "#        'word freq', 'number of common letter', 'letter1 freq', 'letter2 freq',\n",
    "#        'letter3 freq', 'letter4 freq', 'letter5 freq', '5 letters freq', 'a',\n",
    "#        'b', 'c', 'd', 'e', 'f', 'g', 'h', 'i', 'j', 'k', 'l', 'm', 'n', 'o',\n",
    "#        'p', 'q', 'r', 's', 't', 'u', 'v', 'w', 'x', 'y', 'z', 'cl_included',\n",
    "#        'cl_included1', '1 is vowel', '2 is vowel', '3 is vowel', '4 is vowel',\n",
    "#        '5 is vowel']\n",
    "feature = ['is_repetitive',\n",
    "       'repetitive numbers', 'number of vowels', 'number of consonants',\n",
    "       'word freq', 'number of common letter', 'letter1 freq', 'letter2 freq',\n",
    "       'letter3 freq', 'letter4 freq', 'letter5 freq', '5 letters freq', 'a',\n",
    "       'b', 'c', 'd', 'e', 'f', 'g', 'h', 'i', 'j', 'k', 'l', 'm', 'n', 'o',\n",
    "       'p', 'q', 'r', 's', 't', 'u', 'v', 'w', 'x', 'y', 'z', 'cl_included']\n",
    "part_category = df[feature]\n",
    "# X_train, X_valid, Y_train, Y_valid = train_test_split(x_df, y_series, test_size=0.2, random_state=0, stratify=y_series)\n",
    "X1_train, X1_valid, Y1_train, Y1_valid = train_test_split(part_category, y_series, test_size=0.2, random_state=0, stratify=y_series)\n",
    "\n",
    "# lgb_train = lgb.Dataset(X_train, Y_train)\n",
    "# lgb1_train = lgb.Dataset(X1_train, Y1_train)\n",
    "# lgb1_valid = lgb.Dataset(X1_valid, Y1_valid, reference=lgb1_train)"
   ]
  },
  {
   "cell_type": "code",
   "execution_count": null,
   "metadata": {},
   "outputs": [],
   "source": []
  }
 ],
 "metadata": {
  "kernelspec": {
   "display_name": "bd",
   "language": "python",
   "name": "python3"
  },
  "language_info": {
   "codemirror_mode": {
    "name": "ipython",
    "version": 3
   },
   "file_extension": ".py",
   "mimetype": "text/x-python",
   "name": "python",
   "nbconvert_exporter": "python",
   "pygments_lexer": "ipython3",
   "version": "3.8.13"
  },
  "orig_nbformat": 4,
  "vscode": {
   "interpreter": {
    "hash": "1fdac869eac949bb6d4e229a322d967a241b652318876d012b0ded5e5a35e33d"
   }
  }
 },
 "nbformat": 4,
 "nbformat_minor": 2
}
